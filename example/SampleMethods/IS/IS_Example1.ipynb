{
 "cells": [
  {
   "cell_type": "markdown",
   "metadata": {
    "collapsed": true
   },
   "source": [
    "## Importance Sampling Example\n",
    "\n",
    "Author: Audrey Olivier \n",
    "\n",
    "Date: May 8, 2019"
   ]
  },
  {
   "cell_type": "markdown",
   "metadata": {},
   "source": [
    "For importance sampling, the function must be written in a way that it can evaluate multiple samples at once."
   ]
  },
  {
   "cell_type": "code",
   "execution_count": 1,
   "metadata": {},
   "outputs": [],
   "source": [
    "from UQpy.Distributions import Uniform, JointInd\n",
    "from UQpy.SampleMethods import IS\n",
    "import time\n",
    "import matplotlib.pyplot as plt\n",
    "import numpy as np"
   ]
  },
  {
   "cell_type": "code",
   "execution_count": 2,
   "metadata": {},
   "outputs": [],
   "source": [
    "def log_Rosenbrock(x, param):\n",
    "     return (-(100*(x[:, 1]-x[:, 0]**2)**2+(1-x[:, 0])**2)/param)\n",
    "    \n",
    "def Rosenbrock(x, param):\n",
    "     return np.exp(-(100*(x[:, 1]-x[:, 0]**2)**2+(1-x[:, 0])**2)/param)"
   ]
  },
  {
   "cell_type": "code",
   "execution_count": 3,
   "metadata": {
    "scrolled": true
   },
   "outputs": [
    {
     "name": "stdout",
     "output_type": "stream",
     "text": [
      "{'loc_0': -8, 'scale_0': 16, 'loc_1': -10, 'scale_1': 60}\n"
     ]
    }
   ],
   "source": [
    "proposal = JointInd([Uniform(loc=-8, scale=16), Uniform(loc=-10, scale=60)])\n",
    "print(proposal.get_params())"
   ]
  },
  {
   "cell_type": "markdown",
   "metadata": {},
   "source": [
    "### Run IS"
   ]
  },
  {
   "cell_type": "code",
   "execution_count": 4,
   "metadata": {},
   "outputs": [
    {
     "name": "stdout",
     "output_type": "stream",
     "text": [
      "0.0059778690338134766\n"
     ]
    },
    {
     "data": {
      "image/png": "[encoded data removed]",
      "text/plain": [
       "<Figure size 432x288 with 1 Axes>"
      ]
     },
     "metadata": {
      "needs_background": "light"
     },
     "output_type": "display_data"
    }
   ],
   "source": [
    "t4 = time.time()\n",
    "w = IS(log_pdf_target=log_Rosenbrock, args_target=(20, ), nsamples=10000, proposal=proposal, random_state=123)\n",
    "#w = IS(pdf_target=Rosenbrock, args_target=(20, ), nsamples=10000, proposal=proposal)\n",
    "t_IS = time.time()-t4\n",
    "print(t_IS)\n",
    "\n",
    "w.resample(nsamples=1000)\n",
    "plt.plot(w.unweighted_samples[:,0], w.unweighted_samples[:,1],'gs',alpha=0.2)\n",
    "plt.legend(['IS'])\n",
    "plt.show()"
   ]
  },
  {
   "cell_type": "markdown",
   "metadata": {},
   "source": [
    "### Run IS by adding samples: call the run method in a loop (one can also look at diagnostics)"
   ]
  },
  {
   "cell_type": "code",
   "execution_count": 5,
   "metadata": {
    "scrolled": true
   },
   "outputs": [
    {
     "name": "stdout",
     "output_type": "stream",
     "text": [
      "(5000, 2)\n",
      "(10000, 2)\n",
      "(15000, 2)\n",
      "(20000, 2)\n",
      "0.014560937881469727\n"
     ]
    },
    {
     "data": {
      "image/png": "[encoded data removed]",
      "text/plain": [
       "<Figure size 432x288 with 1 Axes>"
      ]
     },
     "metadata": {
      "needs_background": "light"
     },
     "output_type": "display_data"
    }
   ],
   "source": [
    "t4 = time.time()\n",
    "w = IS(log_pdf_target=log_Rosenbrock, args_target=(20, ), proposal=proposal)\n",
    "for nsamples in [5000, 5000, 5000, 5000]:\n",
    "    w.run(nsamples)\n",
    "    print(w.samples.shape)\n",
    "    #IS_diagnostics(weights=w.weights, graphics=False)\n",
    "t_IS = time.time()-t4\n",
    "print(t_IS)\n",
    "\n",
    "w.resample(nsamples=1000)\n",
    "plt.plot(w.unweighted_samples[:,0],w.unweighted_samples[:,1],'gs',alpha=0.2)\n",
    "plt.legend(['IS'])\n",
    "plt.show()"
   ]
  },
  {
   "cell_type": "markdown",
   "metadata": {},
   "source": [
    "Another example: sampling from a bivariate with copula dependence. Giving a random state enforces that results are the same for repeatability."
   ]
  },
  {
   "cell_type": "code",
   "execution_count": 6,
   "metadata": {},
   "outputs": [
    {
     "name": "stdout",
     "output_type": "stream",
     "text": [
      "(500, 2)\n",
      "(500,)\n",
      "[[ 0.5679  0.6348]\n",
      " [ 0.513   1.0699]\n",
      " [-0.0269 -0.9093]\n",
      " [ 0.3116  0.4703]\n",
      " [-0.1421 -1.1114]]\n"
     ]
    }
   ],
   "source": [
    "from UQpy.Distributions import Normal, Gumbel, JointCopula\n",
    "dist_true = JointCopula(marginals=[Normal(), Normal()], copula=Gumbel(theta=2.))\n",
    "proposal = JointInd(marginals=[Normal(), Normal()])\n",
    "sampler = IS(log_pdf_target=dist_true.log_pdf, nsamples=500, proposal=proposal, random_state=123)\n",
    "print(sampler.samples.shape)\n",
    "print(sampler.weights.shape)\n",
    "print(np.round(sampler.samples[-5:], 4))"
   ]
  }
 ],
 "metadata": {
  "kernelspec": {
   "display_name": "Python (UQpy)",
   "language": "python",
   "name": "uqpy"
  },
  "language_info": {
   "codemirror_mode": {
    "name": "ipython",
    "version": 3
   },
   "file_extension": ".py",
   "mimetype": "text/x-python",
   "name": "python",
   "nbconvert_exporter": "python",
   "pygments_lexer": "ipython3",
   "version": "3.6.10"
  }
 },
 "nbformat": 4,
 "nbformat_minor": 1
}
