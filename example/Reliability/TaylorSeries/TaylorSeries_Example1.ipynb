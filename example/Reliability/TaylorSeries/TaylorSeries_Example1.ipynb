{
 "cells": [
  {
   "cell_type": "markdown",
   "metadata": {},
   "source": [
    "## Taylor Series examples\n",
    "\n",
    "Created by: Dimitris Giovanis, 23/3/2019\n"
   ]
  },
  {
   "cell_type": "markdown",
   "metadata": {},
   "source": [
    "The first-order reliability methods (FORM), as stated by its name, utilizes a first-order Taylor series expansions for the performance function in a standard normal probability space to derive probability of failure estimates. Consider a model in standard normal space  with performance function $g(\\textbf{U})$. The FORM approximates\n",
    "the performance function by:\n",
    "\n",
    "$g(\\textbf{U})  \\approx L(\\textbf{U}) = g(\\textbf{u}^\\star) + \\nabla g(\\textbf{u}^\\star)(\\textbf{U}-\\textbf{u}^\\star)^T$\n",
    "\n",
    "\n",
    "where $\\textbf{u}^\\star$ is the point around which the series is expanded and its typically called the design point (needs to be found) and it corresponds to the point on the line  $g(\\textbf{U})=0$ with the highest probability. $\\nabla g(\\textbf{u}^\\star)$ is the gradient of $g(\\textbf{U})$ evaluated at $\\textbf{u}^\\star$."
   ]
  },
  {
   "cell_type": "markdown",
   "metadata": {},
   "source": [
    "The benchmark problem is a simple structural reliability problem\n",
    "defined in a two-dimensional parameter space consisting of a resistance $R$ and a stress $S$. The failure happens\n",
    "when the stress is higher than the resistance, leading to the following limit-state function:\n",
    "\n",
    "$ \\textbf{X}=\\{R, S\\}$\n",
    "\n",
    "$g(\\textbf{X}) = R - S$\n",
    "\n",
    "The two random variables are independent  and  distributed\n",
    "according to:\n",
    "\n",
    "$R \\sim N(200, 20)$\n",
    "\n",
    "$S \\sim N(150, 10)$"
   ]
  },
  {
   "cell_type": "code",
   "execution_count": 1,
   "metadata": {
    "scrolled": true
   },
   "outputs": [],
   "source": [
    "#from platform import python_version\n",
    "#print(python_version())\n",
    "\n",
    "import numpy as np\n",
    "from UQpy.RunModel import RunModel\n",
    "import matplotlib.pyplot as plt\n",
    "from UQpy.RunModel import RunModel\n",
    "from UQpy.Distributions import Normal\n",
    "from UQpy.SampleMethods import MCS\n",
    "from UQpy.Reliability import FORM, SORM\n",
    "import glob\n",
    "import shutil\n",
    "\n",
    "for file_name in glob.glob(\"Model_Runs_*\"):\n",
    "    shutil.rmtree(file_name)"
   ]
  },
  {
   "cell_type": "code",
   "execution_count": null,
   "metadata": {},
   "outputs": [],
   "source": [
    "RunModelObject = RunModel(model_script='pfn.py',model_object_name=\"example1\", vec=False, ntasks=3) \n",
    "dist1 = Normal(loc=200., scale=20.)\n",
    "dist2 = Normal(loc=150, scale=10.)\n",
    "Q = FORM(dist_object=[dist1,dist2], runmodel_object=RunModelObject, tol1=1e-5, tol2=1e-5)\n",
    "Q.run()"
   ]
  },
  {
   "cell_type": "code",
   "execution_count": null,
   "metadata": {},
   "outputs": [],
   "source": [
    "# print results\n",
    "print('Design point in standard normal space: %s' % Q.DesignPoint_U)\n",
    "print('Design point in original space: %s' % Q.DesignPoint_X)\n",
    "print('Hasofer-Lind reliability index: %s' % Q.beta_form)\n",
    "print('FORM probability of failure: %s' % Q.Pf_form)\n",
    "print(Q.dg_u_record)"
   ]
  },
  {
   "cell_type": "code",
   "execution_count": null,
   "metadata": {},
   "outputs": [],
   "source": [
    "# Supporting function\n",
    "def multivariate_gaussian(pos, mu, Sigma):\n",
    "    n = mu.shape[0]\n",
    "    Sigma_det = np.linalg.det(Sigma)\n",
    "    Sigma_inv = np.linalg.inv(Sigma)\n",
    "    N = np.sqrt((2*np.pi)**n * Sigma_det)\n",
    "    fac = np.einsum('...k,kl,...l->...', pos-mu, Sigma_inv, pos-mu)\n",
    "    return np.exp(-fac / 2) / N\n",
    "\n",
    "N = 60\n",
    "XX = np.linspace(150, 250, N)\n",
    "YX = np.linspace(120, 180, N)\n",
    "XX, YX = np.meshgrid(XX, YX)\n",
    "\n",
    "XU = np.linspace(-3, 3, N)\n",
    "YU = np.linspace(-3, 3, N)\n",
    "XU, YU = np.meshgrid(XU, YU)\n",
    "\n",
    "# Mean vector and covariance matrix in the original space\n",
    "parameters = [[200, 20], [150, 10]]\n",
    "mu_X = np.array([parameters[0][0], parameters[1][0]])\n",
    "Sigma_X = np.array([[ parameters[0][1]**2 , 0.0], [0.0,  parameters[1][1]**2]])\n",
    "\n",
    "# Mean vector and covariance matrix in the standard normal space\n",
    "mu_U = np.array([0., 0.])\n",
    "Sigma_U = np.array([[ 1. , 0.0], [0.0,  1]])\n",
    "\n",
    "# Pack X and Y into a single 3-dimensional array for the original space\n",
    "posX = np.empty(XX.shape + (2,))\n",
    "posX[:, :, 0] = XX\n",
    "posX[:, :, 1] = YX\n",
    "ZX = multivariate_gaussian(posX, mu_X, Sigma_X)\n",
    "\n",
    "# Pack X and Y into a single 3-dimensional array for the standard normal space\n",
    "posU = np.empty(XU.shape + (2,))\n",
    "posU[:, :, 0] = XU\n",
    "posU[:, :, 1] = YU\n",
    "ZU = multivariate_gaussian(posU, mu_U, Sigma_U)\n",
    "\n",
    "\n",
    "# Figure 4a\n",
    "plt.figure()\n",
    "plt.rcParams[\"figure.figsize\"] = (12, 12)\n",
    "plt.rcParams.update({'font.size': 22})\n",
    "plt.plot(parameters[0][0],parameters[1][0],'r.') \n",
    "plt.plot([0, 200],[0, 200], 'k', Linewidth=5)\n",
    "plt.plot(Q.DesignPoint_X[0][0], Q.DesignPoint_X[0][1],'bo',markersize=12)\n",
    "plt.contour(XX, YX, ZX, levels=20)\n",
    "plt.xlabel(r'$X_1$')\n",
    "plt.ylabel(r'$X_2$')\n",
    "plt.text(170, 182, '$X_1 - X_2=0$',\n",
    "         rotation=45,\n",
    "         horizontalalignment='center',\n",
    "         verticalalignment='top',\n",
    "         multialignment='center')\n",
    "plt.ylim([120, 200])\n",
    "plt.xlim([130, 240])\n",
    "plt.grid()\n",
    "plt.title('Original space')    \n",
    "plt.axes().set_aspect('equal', 'box')\n",
    "plt.show()\n",
    "\n",
    "# Figure 4b\n",
    "plt.figure()\n",
    "plt.rcParams[\"figure.figsize\"] = (12, 12)\n",
    "plt.rcParams.update({'font.size': 22})      \n",
    "plt.plot([0, Q.DesignPoint_U[0][0]],[0, Q.DesignPoint_U[0][1]], 'b', Linewidth=2)   \n",
    "plt.plot([0, -3],[5, -1], 'k', Linewidth=5)\n",
    "plt.plot(Q.DesignPoint_U[0][0], Q.DesignPoint_U[0][1],'bo',markersize=12)\n",
    "plt.contour(XU, YU, ZU, levels=20)\n",
    "plt.axhline(0, color='black')\n",
    "plt.axvline(0, color='black')\n",
    "plt.plot(0,0,'r.')\n",
    "\n",
    "plt.xlabel(r'$U_1$')\n",
    "plt.ylabel(r'$U_2$')\n",
    "plt.text(-1.0, 1.1, '$U^\\star$=({:1.2f}, {:1.2f})'.format(-2.0, 1.0),\n",
    "         rotation=0,\n",
    "         horizontalalignment='center',\n",
    "         verticalalignment='top',\n",
    "         multialignment='center')\n",
    "\n",
    "plt.text(-2.1, 2.05, '$20U_1 - 10U_2 + 50=0$',\n",
    "         rotation=63,\n",
    "         horizontalalignment='center',\n",
    "         verticalalignment='top',\n",
    "         multialignment='center')\n",
    "\n",
    "plt.text(-1.5, 0.7, r'$\\overrightarrow{\\beta}$',\n",
    "         rotation=0,\n",
    "         horizontalalignment='center',\n",
    "         verticalalignment='top',\n",
    "         multialignment='center')\n",
    "\n",
    "plt.text(0.02, -0.2, '({:1.1f}, {:1.1f})'.format(0.0, 0.0))\n",
    "plt.ylim([-1, 3])\n",
    "plt.xlim([-3.5, 2])\n",
    "plt.grid()\n",
    "plt.title('Standard Normal space')    \n",
    "plt.axes().set_aspect('equal', 'box')\n",
    "plt.show()"
   ]
  },
  {
   "cell_type": "markdown",
   "metadata": {},
   "source": [
    "## Example #2"
   ]
  },
  {
   "cell_type": "markdown",
   "metadata": {},
   "source": [
    "In the second example we have the limit state to be a linear function of two ($d$=2) independent Gaussian random variables\n",
    "\n",
    "$g(\\textbf{U}) = -\\frac{1}{\\sqrt{d}}\\sum_{i=1}^{d} u_i + \\beta$\n",
    "\n",
    "\n",
    "The probability of failure in this case is $P(F) ≈ 10^{−3}$ for $\\beta$ = 3.0902"
   ]
  },
  {
   "cell_type": "code",
   "execution_count": null,
   "metadata": {},
   "outputs": [],
   "source": [
    "dist1 = Normal(loc=0., scale=1.)\n",
    "dist2 = Normal(loc=0., scale=1.)\n",
    "RunModelObject2 = RunModel(model_script='pfn.py',model_object_name=\"example2\", vec=False, ntasks=3)\n",
    "Z = FORM(dist_object=[dist1,dist2], runmodel_object=RunModelObject2)\n",
    "Z.run()"
   ]
  },
  {
   "cell_type": "code",
   "execution_count": null,
   "metadata": {},
   "outputs": [],
   "source": [
    "# print results\n",
    "print('Design point in standard normal space: %s' % Z.DesignPoint_U)\n",
    "print('Design point in original space: %s' % Z.DesignPoint_X)\n",
    "print('Hasofer-Lind reliability index: %s' % Z.beta_form)\n",
    "print('FORM probability of failure: %s' % Z.Pf_form)"
   ]
  },
  {
   "cell_type": "code",
   "execution_count": null,
   "metadata": {},
   "outputs": [],
   "source": [
    "plt.figure()\n",
    "plt.rcParams[\"figure.figsize\"] = (12, 12)\n",
    "plt.rcParams.update({'font.size': 22}) \n",
    "plt.plot([0, Z.DesignPoint_U[0][0]],[0, Z.DesignPoint_U[0][1]], Linewidth=2)                \n",
    "plt.plot(Z.DesignPoint_U[0][0], Z.DesignPoint_U[0][1],'bo',markersize=12)\n",
    "plt.contour(XU, YU, ZU, levels=20)\n",
    "plt.axhline(0, color='black')\n",
    "plt.axvline(0, color='black')\n",
    "plt.plot(0,0,'r.')\n",
    "\n",
    "plt.xlabel(r'$U_1$')\n",
    "plt.ylabel(r'$U_2$')\n",
    "plt.text(2.3, 2.4, '$U^\\star$=({:1.2f}, {:1.2f})'.format(2.18, 2.18),\n",
    "         rotation=0,\n",
    "         horizontalalignment='center',\n",
    "         verticalalignment='top',\n",
    "         multialignment='center')\n",
    "\n",
    "plt.text(1.0, 0.9, r'$\\overrightarrow{\\beta}$',\n",
    "         rotation=0,\n",
    "         horizontalalignment='center',\n",
    "         verticalalignment='top',\n",
    "         multialignment='center')\n",
    "\n",
    "plt.text(0.02, -0.2, '({:1.1f}, {:1.1f})'.format(0.0, 0.0))\n",
    "plt.ylim([-1, 3])\n",
    "plt.xlim([-1, 3])\n",
    "plt.grid()\n",
    "plt.title('Standard Normal space')    \n",
    "plt.axes().set_aspect('equal', 'box')\n",
    "plt.show()"
   ]
  },
  {
   "cell_type": "markdown",
   "metadata": {},
   "source": [
    "## Example 3"
   ]
  },
  {
   "cell_type": "markdown",
   "metadata": {},
   "source": [
    "In the third example we have the limit state to be a linear function of three ($d$=3) independent Gaussian random variables\n",
    "\n",
    "$g(X_1, X_2, X_3) = 6.2X_1 -X_2X_3^2$\n",
    "\n",
    "$\\mu_{X_1}=20, \\mu_{X_2}=5, \\mu_{X_3}=4$\n",
    "\n",
    "$\\sigma_{X_1}=3.5, \\sigma_{X_2}=0.8, \\sigma_{X_3}=0.4$\n",
    "\n",
    "The probability of failure in this case is $P_f ≈ 0.079$ for $\\beta$ = 1.413"
   ]
  },
  {
   "cell_type": "code",
   "execution_count": null,
   "metadata": {},
   "outputs": [],
   "source": [
    "dist1 = Normal(loc=20., scale=3.5)\n",
    "dist2 = Normal(loc=5., scale=0.8)\n",
    "dist3 = Normal(loc=4., scale=0.4)\n",
    "RunModelObject3 = RunModel(model_script='pfn.py',model_object_name=\"example3\", vec=False, ntasks=3) \n",
    "Z0 = FORM(dist_object=[dist1,dist2, dist3], runmodel_object=RunModelObject3)\n",
    "Z0.run()"
   ]
  },
  {
   "cell_type": "code",
   "execution_count": null,
   "metadata": {},
   "outputs": [],
   "source": [
    "print('Design point in standard normal space: %s' % Z0.DesignPoint_U)\n",
    "print('Design point in original space: %s' % Z0.DesignPoint_X)\n",
    "print('Hasofer-Lind reliability index: %s' % Z0.beta_form)\n",
    "print('FORM probability of failure: %s' % Z0.Pf_form)"
   ]
  },
  {
   "cell_type": "markdown",
   "metadata": {},
   "source": [
    "## Example 4"
   ]
  },
  {
   "cell_type": "markdown",
   "metadata": {},
   "source": [
    "In the fourth example we have the limit state to be a nonlinear function of two ($d$=2) random variables\n",
    "\n",
    "$g(X_1, X_2) = X_1X_1 - 80$\n",
    "\n",
    "where $X_1$ follows a normal distribution with mean $\\mu_{X_1}=20$ and standard deviation $\\sigma_{X_1}=7$ and $X_2$ follows a lognormal distribution with mean $\\mu_{X_2}=7$ and standard deviation $\\sigma_{X_2}=1.4$."
   ]
  },
  {
   "cell_type": "code",
   "execution_count": null,
   "metadata": {},
   "outputs": [],
   "source": [
    "from UQpy.Reliability import SORM\n",
    "from UQpy.Distributions import Lognormal, Gamma\n",
    "m0 = 7\n",
    "v0 = 1.4\n",
    "mu = np.log(m0) - np.log(np.sqrt(1 + (v0 / m0) ** 2))\n",
    "scale = np.exp(mu)\n",
    "s = np.sqrt(np.log(1 + (v0 / m0) ** 2))\n",
    "loc_ = 0.0\n",
    "\n",
    "dist1 = Normal(loc=20., scale=2)\n",
    "dist2 = Lognormal(s=s, loc=0.0, scale=scale)\n",
    "RunModelObject4 = RunModel(model_script='pfn.py',model_object_name=\"example4\", vec=False, ntasks=3) \n",
    "form = FORM(dist_object=[dist1,dist2], runmodel_object=RunModelObject4)\n",
    "form.run()\n",
    "Q0 =SORM(form_object=form)"
   ]
  },
  {
   "cell_type": "code",
   "execution_count": null,
   "metadata": {},
   "outputs": [],
   "source": [
    "# print results\n",
    "print('Design point: %s' % Q0.DesignPoint_X)\n",
    "print('Design point: %s' % Q0.DesignPoint_U)\n",
    "print('beta: %s' % Q0.beta_form)\n",
    "print('FORM probability of failure: %s' % Q0.Pf_form)\n",
    "print('SORM probability of failure: %s' % Q0.Pf_sorm)"
   ]
  },
  {
   "cell_type": "code",
   "execution_count": 2,
   "metadata": {},
   "outputs": [
    {
     "name": "stdout",
     "output_type": "stream",
     "text": [
      "Design point: [array([ 673.673009  , 1016.38328262])]\n",
      "Design point: [array([1.73673009, 0.16383283])]\n",
      "beta: [0.040541155598652866]\n",
      "[1.73673009 0.16383283] [ 673.673009   1016.38328262]\n",
      "[[-0.00720754  0.00477726]\n",
      " [ 0.00477726 -0.00316643]]\n",
      "SORM probability of failure: [0.04093229408031479]\n"
     ]
    }
   ],
   "source": [
    "dist1 = Normal(loc=500, scale=100)\n",
    "dist2 = Normal(loc=1000, scale=100)\n",
    "RunModelObject5 = RunModel(model_script='pfn.py',model_object_name=\"example5\", vec=False, ntasks=3) \n",
    "form = FORM(dist_object=[dist1,dist2], runmodel_object=RunModelObject5)\n",
    "form.run()\n",
    "\n",
    "print('Design point: %s' % form.DesignPoint_X)\n",
    "print('Design point: %s' % form.DesignPoint_U)\n",
    "print('beta: %s' % form.Pf_form)\n",
    "Q0 =SORM(form_object=form)\n",
    "print('SORM probability of failure: %s' % Q0.Pf_sorm)"
   ]
  },
  {
   "cell_type": "code",
   "execution_count": 13,
   "metadata": {},
   "outputs": [
    {
     "name": "stdout",
     "output_type": "stream",
     "text": [
      "[[-0.00720754  0.00477726]\n",
      " [ 0.00477726 -0.00316643]]\n"
     ]
    }
   ],
   "source": [
    "def model_j(samples):\n",
    "    d0 = 3\n",
    "    e = 30000000\n",
    "    l = 100\n",
    "    w = 2\n",
    "    t = 4\n",
    "    qoi_list = [0] * samples.shape[0]\n",
    "    for i in range(samples.shape[0]):\n",
    "        qoi_list[i] = d0 - 4*l**3/(e*w*t)*np.sqrt((samples[i, 1]/t**2)**2 + (samples[i, 0]/w**2)**2)\n",
    "    return qoi_list\n",
    "\n",
    "from UQpy.Transformations import Nataf\n",
    "from UQpy.Reliability import TaylorSeries\n",
    "\n",
    "\n",
    "dist1 = Normal(loc=500, scale=100)\n",
    "dist2 = Normal(loc=1000, scale=100)\n",
    "point_u = np.array([1.73673009, 0.16383283])\n",
    "rx = np.array([[1.0, 0.0], [0.0, 1.0]])\n",
    "ntf_obj = Nataf(dist_object=[dist1, dist2], corr_x=rx)\n",
    "hessian = TaylorSeries.derivatives(point_u=point_u, runmodel_object=model_j,\n",
    "                                   nataf_object=ntf_obj, order='second')\n",
    "for file_name in glob.glob(\"Model_Runs_*\"):\n",
    "    shutil.rmtree(file_name)\n",
    "print(hessian)\n",
    "a = np.testing.assert_allclose(hessian, [[-0.00720754, 0.00477726],[0.00477726,-0.00316643]], rtol=1e-4)"
   ]
  },
  {
   "cell_type": "code",
   "execution_count": null,
   "metadata": {},
   "outputs": [],
   "source": [
    "for file_name in glob.glob(\"Model_Runs_*\"):\n",
    "    shutil.rmtree(file_name)"
   ]
  },
  {
   "cell_type": "code",
   "execution_count": null,
   "metadata": {},
   "outputs": [],
   "source": []
  }
 ],
 "metadata": {
  "kernelspec": {
   "display_name": "Python 3",
   "language": "python",
   "name": "python3"
  },
  "language_info": {
   "codemirror_mode": {
    "name": "ipython",
    "version": 3
   },
   "file_extension": ".py",
   "mimetype": "text/x-python",
   "name": "python",
   "nbconvert_exporter": "python",
   "pygments_lexer": "ipython3",
   "version": "3.7.7"
  }
 },
 "nbformat": 4,
 "nbformat_minor": 2
}
